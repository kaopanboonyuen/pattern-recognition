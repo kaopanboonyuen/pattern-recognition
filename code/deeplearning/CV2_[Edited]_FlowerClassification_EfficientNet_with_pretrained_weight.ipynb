{
  "cells": [
    {
      "attachments": {},
      "cell_type": "markdown",
      "metadata": {
        "id": "3WlcVC3Ijtt7"
      },
      "source": [
        "# Flower Recognition with EfficientNetB1\n",
        "https://www.kaggle.com/alxmamaev/flowers-recognition/home\n"
      ]
    },
    {
      "attachments": {},
      "cell_type": "markdown",
      "metadata": {
        "id": "EYqFPufV4eXP"
      },
      "source": [
        "![](https://1.bp.blogspot.com/-Cdtb97FtgdA/XO3BHsB7oEI/AAAAAAAAEKE/bmtkonwgs8cmWyI5esVo8wJPnhPLQ5bGQCLcBGAs/s1600/image4.png)"
      ]
    },
    {
      "attachments": {},
      "cell_type": "markdown",
      "metadata": {
        "id": "jsgtzzKY4qBK"
      },
      "source": [
        "![](https://1.bp.blogspot.com/-DjZT_TLYZok/XO3BYqpxCJI/AAAAAAAAEKM/BvV53klXaTUuQHCkOXZZGywRMdU9v9T_wCLcBGAs/s1600/image2.png)"
      ]
    },
    {
      "cell_type": "code",
      "execution_count": null,
      "metadata": {
        "colab": {
          "base_uri": "https://localhost:8080/"
        },
        "id": "568twFdZudMl",
        "outputId": "82db6586-ed9e-45cd-dd86-dbe79f4f8411",
        "vscode": {
          "languageId": "python"
        }
      },
      "outputs": [],
      "source": [
        "# GPU usage information\n",
        "\n",
        "!nvidia-smi"
      ]
    },
    {
      "attachments": {},
      "cell_type": "markdown",
      "metadata": {
        "id": "C2vdYp4pqv1M"
      },
      "source": [
        "# Setting Random Seed"
      ]
    },
    {
      "cell_type": "code",
      "execution_count": null,
      "metadata": {
        "id": "uMbqyLy4N5pz",
        "vscode": {
          "languageId": "python"
        }
      },
      "outputs": [],
      "source": [
        "from numpy.random import seed\n",
        "seed(1)\n",
        "import tensorflow as tf\n",
        "tf.random.set_seed(2)"
      ]
    },
    {
      "attachments": {},
      "cell_type": "markdown",
      "metadata": {
        "id": "Kmqn1Kf1sXbH"
      },
      "source": [
        "# Load Data"
      ]
    },
    {
      "cell_type": "code",
      "execution_count": null,
      "metadata": {
        "colab": {
          "base_uri": "https://localhost:8080/"
        },
        "id": "AA_FVE2QTsVZ",
        "outputId": "2279541a-6d84-49bf-b1bb-75f7cf4cd514",
        "vscode": {
          "languageId": "python"
        }
      },
      "outputs": [],
      "source": [
        "!wget --load-cookies /tmp/cookies.txt \"https://docs.google.com/uc?export=download&confirm=$(wget --quiet --save-cookies /tmp/cookies.txt --keep-session-cookies --no-check-certificate 'https://docs.google.com/uc?export=download&id=1vYdIDWC5FSaFeslc8HWxWlD7MtBsAz28' -O- | sed -rn 's/.*confirm=([0-9A-Za-z_]+).*/\\1\\n/p')&id=1vYdIDWC5FSaFeslc8HWxWlD7MtBsAz28\" -O flowers_dataset.zip && rm -rf /tmp/cookies.txt"
      ]
    },
    {
      "cell_type": "code",
      "execution_count": null,
      "metadata": {
        "id": "DMpAezfEVsat",
        "vscode": {
          "languageId": "python"
        }
      },
      "outputs": [],
      "source": [
        "!unzip /content/flowers_dataset.zip &> /dev/null"
      ]
    },
    {
      "attachments": {},
      "cell_type": "markdown",
      "metadata": {
        "id": "7uiRfZIAKIeu"
      },
      "source": [
        "#Import Necessary Library"
      ]
    },
    {
      "cell_type": "code",
      "execution_count": null,
      "metadata": {
        "id": "hmQMZhjPTk6N",
        "vscode": {
          "languageId": "python"
        }
      },
      "outputs": [],
      "source": [
        "import os\n",
        "import random\n",
        "import itertools\n",
        "import tensorflow as tf\n",
        "from tensorflow import keras\n",
        "import matplotlib.pyplot as pyplot\n",
        "import numpy as np\n",
        "import pandas as pd\n",
        "\n",
        "from tensorflow.keras.models import Model, load_model, Sequential\n",
        "from tensorflow.keras.layers import Dense, Flatten, Dropout\n",
        "from tensorflow.keras.preprocessing.image import ImageDataGenerator\n",
        "from tensorflow.keras.optimizers import Adam\n",
        "from tensorflow.keras.callbacks import ModelCheckpoint, EarlyStopping, ReduceLROnPlateau\n",
        "from sklearn.metrics import confusion_matrix, classification_report"
      ]
    },
    {
      "cell_type": "code",
      "execution_count": null,
      "metadata": {
        "colab": {
          "base_uri": "https://localhost:8080/",
          "height": 35
        },
        "id": "aL1G05stWWUw",
        "outputId": "8723509b-0044-4595-ad6c-628a6b59e11f",
        "vscode": {
          "languageId": "python"
        }
      },
      "outputs": [],
      "source": [
        "tf.__version__"
      ]
    },
    {
      "attachments": {},
      "cell_type": "markdown",
      "metadata": {
        "id": "k_NF87YdwOiy"
      },
      "source": [
        "# Data Preprocessing"
      ]
    },
    {
      "cell_type": "code",
      "execution_count": null,
      "metadata": {
        "id": "vAM0mz-7V8FR",
        "vscode": {
          "languageId": "python"
        }
      },
      "outputs": [],
      "source": [
        "train_dir = \"/content/flowers_dataset/train\"\n",
        "val_dir = \"/content/flowers_dataset/validate\"\n",
        "test_dir = \"/content/flowers_dataset/test\""
      ]
    },
    {
      "cell_type": "code",
      "execution_count": null,
      "metadata": {
        "colab": {
          "base_uri": "https://localhost:8080/"
        },
        "id": "d1STHQakWMTP",
        "outputId": "b228abeb-91ac-4a9d-8d69-e782c46431fb",
        "vscode": {
          "languageId": "python"
        }
      },
      "outputs": [],
      "source": [
        "image_size = 240\n",
        "num_class = 5\n",
        "\n",
        "batch_size = 24\n",
        "\n",
        "#image augmentation\n",
        "train_datagen = ImageDataGenerator(\n",
        "        rescale=1.0/255.0, \n",
        "        shear_range = 0.2,\n",
        "        zoom_range = 0.2,\n",
        "        fill_mode=\"nearest\",\n",
        "        vertical_flip=True,\n",
        "        horizontal_flip=True)\n",
        " \n",
        "validation_datagen = ImageDataGenerator(rescale=1.0/255.0)\n",
        "\n",
        "#create train and validation \n",
        "train_generator = train_datagen.flow_from_directory(\n",
        "        train_dir,\n",
        "        target_size=(image_size, image_size),\n",
        "        batch_size=batch_size,\n",
        "        class_mode='categorical')\n",
        " \n",
        "validation_generator = validation_datagen.flow_from_directory(\n",
        "        val_dir,\n",
        "        target_size=(image_size, image_size),\n",
        "        batch_size=batch_size,\n",
        "        class_mode='categorical')"
      ]
    },
    {
      "attachments": {},
      "cell_type": "markdown",
      "metadata": {
        "id": "_PT1n0rGwubN"
      },
      "source": [
        "# Data Visualization"
      ]
    },
    {
      "cell_type": "code",
      "execution_count": null,
      "metadata": {
        "colab": {
          "base_uri": "https://localhost:8080/",
          "height": 320
        },
        "id": "mkM4__HuBFS1",
        "outputId": "daf2964d-222b-4436-d756-5a556b0992a3",
        "vscode": {
          "languageId": "python"
        }
      },
      "outputs": [],
      "source": [
        "#train statistics\n",
        "y_train = train_generator.labels\n",
        "df_train = pd.DataFrame(y_train, columns=['class'])\n",
        "ax = df_train['class'].value_counts().sort_index(na_position='first').plot(kind='bar', rot=0, figsize=(10,5), sort_columns=True)\n",
        "for p in ax.patches:\n",
        "    height = p.get_height()\n",
        "    ax.text(p.get_x() + p.get_width()/2, height+4, '{:1.0f}'.format(height), ha=\"center\")"
      ]
    },
    {
      "cell_type": "code",
      "execution_count": null,
      "metadata": {
        "colab": {
          "base_uri": "https://localhost:8080/",
          "height": 320
        },
        "id": "3KdJlWpQB9lk",
        "outputId": "813b355c-7f45-4ae0-8b98-e67d7bf74b67",
        "vscode": {
          "languageId": "python"
        }
      },
      "outputs": [],
      "source": [
        "#validation statistics\n",
        "y_val = validation_generator.labels\n",
        "df_val = pd.DataFrame(y_val, columns=['class'])\n",
        "ax = df_val['class'].value_counts().sort_index(na_position='first').plot(kind='bar', rot=0, figsize=(10,5), sort_columns=True)\n",
        "for p in ax.patches:\n",
        "    height = p.get_height()\n",
        "    ax.text(p.get_x() + p.get_width()/2, height+1.5, '{:1.0f}'.format(height), ha=\"center\")"
      ]
    },
    {
      "cell_type": "code",
      "execution_count": null,
      "metadata": {
        "colab": {
          "base_uri": "https://localhost:8080/",
          "height": 340
        },
        "id": "2V0dMqZEqL2T",
        "outputId": "9e7d0dbb-ba16-46a8-d7b6-cfff5d803e9b",
        "vscode": {
          "languageId": "python"
        }
      },
      "outputs": [],
      "source": [
        "#visualize image from train set\n",
        "\n",
        "x, y = train_generator.next() # x=image, y=label\n",
        "i = random.randint(0, batch_size-1)\n",
        "pyplot.subplots(1, 1, figsize=(10,5))\n",
        "pyplot.imshow(x[i])"
      ]
    },
    {
      "cell_type": "code",
      "execution_count": null,
      "metadata": {
        "colab": {
          "base_uri": "https://localhost:8080/",
          "height": 340
        },
        "id": "MjFZfdAkxTED",
        "outputId": "6dba5f8d-a384-45a7-ef29-2788662455c4",
        "vscode": {
          "languageId": "python"
        }
      },
      "outputs": [],
      "source": [
        "#visualize image from validation set\n",
        "\n",
        "x, y = validation_generator.next()\n",
        "i = random.randint(0, batch_size-1)\n",
        "pyplot.subplots(1, 1, figsize=(10,5))\n",
        "pyplot.imshow(x[i])"
      ]
    },
    {
      "attachments": {},
      "cell_type": "markdown",
      "metadata": {
        "id": "s2nsNLP4xYTA"
      },
      "source": [
        "# Create Model"
      ]
    },
    {
      "cell_type": "code",
      "execution_count": null,
      "metadata": {
        "colab": {
          "base_uri": "https://localhost:8080/"
        },
        "id": "8KgoTzwZfh0D",
        "outputId": "1e896216-dc2a-4194-a756-6b1034e0a290",
        "vscode": {
          "languageId": "python"
        }
      },
      "outputs": [],
      "source": [
        "# list of models\n",
        "# https://www.tensorflow.org/api_docs/python/tf/keras/applications/\n",
        "\n",
        "from tensorflow.keras.applications import EfficientNetB1\n",
        "\n",
        "efnb1 = EfficientNetB1(weights='imagenet', include_top=False, input_shape=(image_size, image_size, 3))\n",
        "\n",
        "for layer in efnb1.layers:\n",
        "  layer.trainable = True\n",
        "\n",
        "model = Sequential()\n",
        "model.add(efnb1)\n",
        "model.add(Flatten())\n",
        "model.add(Dropout(0.2))\n",
        "model.add(Dense(256, activation='relu'))\n",
        "model.add(Dropout(0.2))\n",
        "model.add(Dense(5, activation='softmax'))\n",
        "\n",
        "model.compile(optimizer=Adam(learning_rate=1e-4), loss='categorical_crossentropy', metrics=['accuracy'])\n",
        "model.summary()"
      ]
    },
    {
      "attachments": {},
      "cell_type": "markdown",
      "metadata": {
        "id": "HpK04wDx2MsF"
      },
      "source": [
        "# Train Model"
      ]
    },
    {
      "cell_type": "code",
      "execution_count": null,
      "metadata": {
        "id": "zfyY1LpvTW7E",
        "vscode": {
          "languageId": "python"
        }
      },
      "outputs": [],
      "source": [
        "# callbacks = [\n",
        "#                ModelCheckpoint('efn1_best_model.h5', monitor='val_accuracy', mode='max', save_best_only=True, verbose=1),\n",
        "#                ReduceLROnPlateau(monitor='val_accuracy', mode='max', patience=3, verbose=1),\n",
        "#                EarlyStopping(monitor='val_accuracy', patience=10, mode='max', verbose=1)\n",
        "#                ]\n",
        "\n",
        "# history = model.fit(\n",
        "#     train_generator,\n",
        "#     steps_per_epoch=len(train_generator),\n",
        "#     epochs=100,\n",
        "#     callbacks = callbacks,\n",
        "#     validation_data = validation_generator,\n",
        "#     validation_steps=len(validation_generator)\n",
        "# )"
      ]
    },
    {
      "attachments": {},
      "cell_type": "markdown",
      "metadata": {
        "id": "b71jAjtqDadf"
      },
      "source": [
        "#Plot Train and Validation Graphs"
      ]
    },
    {
      "cell_type": "code",
      "execution_count": null,
      "metadata": {
        "id": "QegeGkUufqcd",
        "vscode": {
          "languageId": "python"
        }
      },
      "outputs": [],
      "source": [
        "# #plot loss\n",
        "# pyplot.figure(figsize=(30,5))\n",
        "# pyplot.subplot(121)\n",
        "# pyplot.plot(history.history['loss'])\n",
        "# pyplot.plot(history.history['val_loss'])\n",
        "# pyplot.title('Cross Entropy Loss')\n",
        "# pyplot.ylabel('loss')\n",
        "# pyplot.xlabel('epoch')\n",
        "# pyplot.legend(['Train', 'Validate'], loc='upper left')\n",
        "\n",
        "# #plot accuracy\n",
        "# pyplot.subplot(122)\n",
        "# pyplot.plot(history.history['accuracy'])\n",
        "# pyplot.plot(history.history['val_accuracy'])\n",
        "# pyplot.title('Classification Accuracy')\n",
        "# pyplot.ylabel('accuracy')\n",
        "# pyplot.xlabel('epoch')\n",
        "# pyplot.legend(['Train', 'Validate'], loc='upper left')\n",
        "# pyplot.show()"
      ]
    },
    {
      "attachments": {},
      "cell_type": "markdown",
      "metadata": {
        "id": "nNhmzRAEAg8i"
      },
      "source": [
        "# Test Set Evaluation"
      ]
    },
    {
      "cell_type": "code",
      "execution_count": null,
      "metadata": {
        "colab": {
          "base_uri": "https://localhost:8080/"
        },
        "id": "sPmFNJfEkrAQ",
        "outputId": "db65cd4f-20ed-4e0b-d414-b97589297f27",
        "vscode": {
          "languageId": "python"
        }
      },
      "outputs": [],
      "source": [
        "# download pre-trained weight\n",
        "!wget https://storage.googleapis.com/kao-weights/efn1_best_model.h5"
      ]
    },
    {
      "cell_type": "code",
      "execution_count": null,
      "metadata": {
        "id": "TXF690Befv_q",
        "vscode": {
          "languageId": "python"
        }
      },
      "outputs": [],
      "source": [
        "#implement model\n",
        "model.load_weights('efn1_best_model.h5')"
      ]
    },
    {
      "cell_type": "code",
      "execution_count": null,
      "metadata": {
        "colab": {
          "base_uri": "https://localhost:8080/"
        },
        "id": "HesS4-zZfzl5",
        "outputId": "f6d8a1e1-bedd-423b-ce38-af422916207c",
        "vscode": {
          "languageId": "python"
        }
      },
      "outputs": [],
      "source": [
        "#create test set\n",
        "test_generator = validation_datagen.flow_from_directory(\n",
        "        test_dir,\n",
        "        target_size=(image_size, image_size),\n",
        "        batch_size=1,\n",
        "        class_mode='categorical')"
      ]
    },
    {
      "cell_type": "code",
      "execution_count": null,
      "metadata": {
        "colab": {
          "base_uri": "https://localhost:8080/"
        },
        "id": "p0YJfGs4f3l3",
        "outputId": "e7f517d6-1078-4a3d-da28-c40243361c0a",
        "vscode": {
          "languageId": "python"
        }
      },
      "outputs": [],
      "source": [
        "#evaluate test set\n",
        "score = model.evaluate(test_generator, verbose=1)\n",
        "\n",
        "print('Test loss: %.3f' % (score[0] * 100.0))\n",
        "print('Test accuracy: %.3f' % (score[1] * 100.0))"
      ]
    },
    {
      "cell_type": "code",
      "execution_count": null,
      "metadata": {
        "id": "Jc4sHWuPf5uo",
        "vscode": {
          "languageId": "python"
        }
      },
      "outputs": [],
      "source": [
        "#split imagedatagenerator into x_test and y_test\n",
        "from platform import python_version_tuple\n",
        "\n",
        "if python_version_tuple()[0] == '3':\n",
        "    xrange = range\n",
        "    izip = zip\n",
        "    imap = map\n",
        "else:\n",
        "    from itertools import izip, imap\n",
        "\n",
        "x, y = izip(*(test_generator[i] for i in xrange(len(test_generator))))\n",
        "x_test, y_test = np.vstack(x), np.vstack(y)"
      ]
    },
    {
      "cell_type": "code",
      "execution_count": null,
      "metadata": {
        "id": "oHOPUSuVgbCI",
        "vscode": {
          "languageId": "python"
        }
      },
      "outputs": [],
      "source": [
        "#predict values from test set\n",
        "y_pred = model.predict(test_generator, steps = len(test_generator))\n",
        "#convert predictions classes to one hot vectors\n",
        "y_pred_classes = np.argmax(y_pred, axis=1)\n",
        "#convert test observations to one hot vectors\n",
        "y_true = np.argmax(y_test, axis=1)"
      ]
    },
    {
      "cell_type": "code",
      "execution_count": null,
      "metadata": {
        "colab": {
          "base_uri": "https://localhost:8080/",
          "height": 358
        },
        "id": "kYvYwvtdqJjW",
        "outputId": "130d5818-e251-4085-cb9c-3e2615b2ce87",
        "vscode": {
          "languageId": "python"
        }
      },
      "outputs": [],
      "source": [
        "#visualize image from test set\n",
        "\n",
        "i = random.randint(0, len(x_test))\n",
        "pyplot.subplots(1, 1, figsize=(10,5))\n",
        "pyplot.imshow(x_test[i])\n",
        "pyplot.show()\n",
        "\n",
        "#print target on test image.\n",
        "idx_x = y_pred_classes[i]\n",
        "idx_y = list(y_test[i]).index(1)\n",
        "y_name = test_generator.class_indices\n",
        "print('prediction is',list(y_name.keys())[list(y_name.values()).index(idx_x)]) \n",
        "print('label is',list(y_name.keys())[list(y_name.values()).index(idx_y)]) "
      ]
    },
    {
      "cell_type": "code",
      "execution_count": null,
      "metadata": {
        "id": "QiMaxYkUf5r8",
        "vscode": {
          "languageId": "python"
        }
      },
      "outputs": [],
      "source": [
        "#plot confusion matrix\n",
        "def plot_confusion_matrix(cm, classes, cmap=pyplot.cm.Blues):\n",
        "  pyplot.imshow(cm, interpolation='nearest', cmap=cmap)\n",
        "  pyplot.title('Confusion Matrix')\n",
        "  pyplot.colorbar()\n",
        "  tick_marks = np.arange(len(classes))\n",
        "  pyplot.xticks(tick_marks, classes)\n",
        "  pyplot.yticks(tick_marks, classes)\n",
        "\n",
        "  thresh = cm.mean()\n",
        "  for i, j in itertools.product(range(cm.shape[0]), range(cm.shape[1])):\n",
        "    pyplot.text(j, i, cm[i, j],\n",
        "                horizontalalignment=\"center\",\n",
        "                color=\"white\" if cm[i, j] > thresh else \"black\")\n",
        "    pyplot.tight_layout()\n",
        "    pyplot.ylabel('True Label')\n",
        "    pyplot.xlabel('Predicted Label')"
      ]
    },
    {
      "cell_type": "code",
      "execution_count": null,
      "metadata": {
        "colab": {
          "base_uri": "https://localhost:8080/",
          "height": 297
        },
        "id": "7iBUiPfWpBy0",
        "outputId": "2534270e-68cc-4312-ce60-e84a416f19e5",
        "vscode": {
          "languageId": "python"
        }
      },
      "outputs": [],
      "source": [
        "#compute confusion matrix \n",
        "confusion_mtx = confusion_matrix(y_true, y_pred_classes)\n",
        "#plot confusion matrix\n",
        "plot_confusion_matrix(confusion_mtx, classes=range(5))"
      ]
    },
    {
      "cell_type": "code",
      "execution_count": null,
      "metadata": {
        "colab": {
          "base_uri": "https://localhost:8080/"
        },
        "id": "Jsud2RJeG5B-",
        "outputId": "011def90-e90f-4ab8-94a4-dbdde73962e5",
        "vscode": {
          "languageId": "python"
        }
      },
      "outputs": [],
      "source": [
        "#classification report\n",
        "print(classification_report(y_true, y_pred_classes, target_names=test_generator.class_indices, digits=4))"
      ]
    }
  ],
  "metadata": {
    "accelerator": "GPU",
    "colab": {
      "collapsed_sections": [],
      "name": "CV2_[Edited]_FlowerClassification_EfficientNet_with_pretrained_weight.ipynb",
      "provenance": []
    },
    "kernelspec": {
      "display_name": "Python 3",
      "name": "python3"
    }
  },
  "nbformat": 4,
  "nbformat_minor": 0
}
